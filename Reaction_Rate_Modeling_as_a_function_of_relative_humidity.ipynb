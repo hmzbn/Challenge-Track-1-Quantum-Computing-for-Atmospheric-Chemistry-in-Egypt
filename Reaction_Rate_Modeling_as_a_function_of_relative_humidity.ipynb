{
  "nbformat": 4,
  "nbformat_minor": 0,
  "metadata": {
    "colab": {
      "provenance": []
    },
    "kernelspec": {
      "name": "python3",
      "display_name": "Python 3"
    },
    "language_info": {
      "name": "python"
    }
  },
  "cells": [
    {
      "cell_type": "markdown",
      "source": [
        "### 1. Input Energies in Hartree (Ha)"
      ],
      "metadata": {
        "id": "PBdtcWW3415d"
      }
    },
    {
      "cell_type": "code",
      "source": [
        "# Ground-state energies in Hartree (Ha)\n",
        "energy = {\n",
        "    'h2o': -74.816034,\n",
        "    'so3': -613.795499,\n",
        "    'h2so4': -688.199187\n",
        "}"
      ],
      "metadata": {
        "id": "EVVoDvm41NpX"
      },
      "execution_count": 220,
      "outputs": []
    },
    {
      "cell_type": "markdown",
      "source": [
        "### 2. Compute Cluster Formation Energies (ΔE) in Hartree\n"
      ],
      "metadata": {
        "id": "JN-ZWtaE5Pr5"
      }
    },
    {
      "cell_type": "code",
      "source": [
        "# Cluster formation energies ΔE in Ha\n",
        "deltaE_1 = energy['h2so4'] - (energy['so3'] + 1 * energy['h2o'])  # H2SO4 - (SO3 + H2O)\n",
        "deltaE_2 = energy['h2so4'] - (energy['so3'] + 2 * energy['h2o'])  # H2SO4 - (SO3 + 2H2O)\n",
        "deltaE_3 = energy['h2so4'] - (energy['so3'] + 3 * energy['h2o'])  # H2SO4 - (SO3 + 3H2O)\n",
        "\n",
        "print(f\"ΔE1: {deltaE_1} Ha, ΔE2: {deltaE_2} Ha, ΔE3: {deltaE_3} Ha\")"
      ],
      "metadata": {
        "colab": {
          "base_uri": "https://localhost:8080/"
        },
        "id": "TKzI1C7B4_H2",
        "outputId": "d17d6549-09d1-4644-a058-485f1696a8cb"
      },
      "execution_count": 221,
      "outputs": [
        {
          "output_type": "stream",
          "name": "stdout",
          "text": [
            "ΔE1: 0.4123459999999568 Ha, ΔE2: 75.2283799999999 Ha, ΔE3: 150.04441399999985 Ha\n"
          ]
        }
      ]
    },
    {
      "cell_type": "markdown",
      "source": [
        "### 3. Define Reaction Rate Function Based on Arrhenius Equation\n",
        "Estimate how humidity affects reaction speed\n",
        "\n",
        "Using Arrhenius equation:\n",
        "$k(T)=A⋅e^{-E_a/RT}$\n",
        "\n",
        "where:\n",
        "$E_a≈\\alpha ΔE$\n",
        "\n",
        "$\\alpha = 0.05^{n-1}$\n",
        "\n",
        "T is temperature (assume ~298 K)\n",
        "\n",
        "Vary relative humidity (RH) from 60% to 100%"
      ],
      "metadata": {
        "id": "i62ZFthR5f7U"
      }
    },
    {
      "cell_type": "code",
      "source": [
        "# Convert ΔE to kJ/mol: 1 Hartree = 2625.5 kJ/mol\n",
        "hartree_to_kjmol = 2625.5\n",
        "\n",
        "cluster_energies_kjmol = {\n",
        "    1: deltaE_1 * hartree_to_kjmol,\n",
        "    2: 0.05*deltaE_2 * hartree_to_kjmol,\n",
        "    3: (0.05**2)*deltaE_3 * hartree_to_kjmol\n",
        "}\n",
        "\n",
        "print(cluster_energies_kjmol)"
      ],
      "metadata": {
        "colab": {
          "base_uri": "https://localhost:8080/"
        },
        "id": "Uup2c5N35CjS",
        "outputId": "b1ffb337-9608-482f-88b7-429555c1a5d6"
      },
      "execution_count": 222,
      "outputs": [
        {
          "output_type": "stream",
          "name": "stdout",
          "text": [
            "{1: 1082.6144229998865, 2: 9875.605584499988, 3: 984.8540223924992}\n"
          ]
        }
      ]
    },
    {
      "cell_type": "code",
      "source": [
        "import numpy as np\n",
        "# compute rate for each cluster\n",
        "\n",
        "R = 8.314  # J/mol·K\n",
        "T = 313.15 #298    # K\n",
        "A = 1e13   # s⁻¹, assumed pre-exponential factor\n",
        "\n",
        "def arrhenius_rate(E_kjmol):\n",
        "    E_Jmol = E_kjmol * 1000\n",
        "    return A * np.exp(-E_Jmol / (R * T))\n",
        "\n",
        "reaction_rates = {\n",
        "    n: arrhenius_rate(E)\n",
        "    for n, E in cluster_energies_kjmol.items()\n",
        "}\n"
      ],
      "metadata": {
        "id": "qOCWN3lRYmcO"
      },
      "execution_count": 223,
      "outputs": []
    },
    {
      "cell_type": "code",
      "source": [
        "reaction_rates"
      ],
      "metadata": {
        "colab": {
          "base_uri": "https://localhost:8080/"
        },
        "id": "wtQiTHkRyIo-",
        "outputId": "71e30981-e760-4de6-af42-d31fde492f0c"
      },
      "execution_count": 224,
      "outputs": [
        {
          "output_type": "execute_result",
          "data": {
            "text/plain": [
              "{1: np.float64(2.565513395759502e-168),\n",
              " 2: np.float64(0.0),\n",
              " 3: np.float64(5.206896310055212e-152)}"
            ]
          },
          "metadata": {},
          "execution_count": 224
        }
      ]
    },
    {
      "cell_type": "markdown",
      "source": [
        "### 4. Compute Reaction Rates over RH Range\n",
        "Link Rates to Relative Humidity (RH)\n",
        "\n",
        "RH controls the concentration of H₂O vapor in the atmosphere. So we can model RH as influencing the probability of forming nH₂O clusters:\n",
        "\n",
        "At low RH (60%), small clusters (n=1) are more likely.\n",
        "\n",
        "At high RH (100%), larger clusters (n=3) dominate."
      ],
      "metadata": {
        "id": "4zqywpki51zd"
      }
    },
    {
      "cell_type": "code",
      "source": [
        "# Relative humidity values from 60% to 100%\n",
        "rh_values = np.linspace(60, 100, 100)\n",
        "\n",
        "# Weighting model: probability of cluster with n water molecules\n",
        "def rh_weights(rh):\n",
        "    \"\"\"Return normalized weights for n=1,2,3 at a given RH (%)\"\"\"\n",
        "    x = (rh - 60) / 40  # Normalize to [0,1]\n",
        "    w1 = (1 - x)**2\n",
        "    w2 = 2 * x * (1 - x)\n",
        "    w3 = x**2\n",
        "    total = w1 + w2 + w3\n",
        "    return [w1/total, w2/total, w3/total]"
      ],
      "metadata": {
        "id": "rLhCUso-5ndz"
      },
      "execution_count": 225,
      "outputs": []
    },
    {
      "cell_type": "markdown",
      "source": [
        "we can use RH as a weighting factor:\n",
        "\n",
        "$Rate_{total}=\\sum_{n=1}^{3}𝑤_n(RH).k_n$\n",
        "\n",
        "Where  $𝑤_𝑛$ is the likelihood of n H₂O molecules interacting at that RH."
      ],
      "metadata": {
        "id": "n3j2Rx2XZBDv"
      }
    },
    {
      "cell_type": "code",
      "source": [
        "total_rates = []\n",
        "\n",
        "for rh in rh_values:\n",
        "    w1, w2, w3 = rh_weights(rh)\n",
        "    rate = (\n",
        "        w1 * reaction_rates[1] +\n",
        "        w2 * reaction_rates[2] +\n",
        "        w3 * reaction_rates[3]\n",
        "    )\n",
        "    total_rates.append(rate)"
      ],
      "metadata": {
        "id": "YjSHfQPvZE2e"
      },
      "execution_count": 226,
      "outputs": []
    },
    {
      "cell_type": "markdown",
      "source": [
        "### 5. Plot RH vs Predicted Nucleation Probability"
      ],
      "metadata": {
        "id": "PW8_JaQT56-n"
      }
    },
    {
      "cell_type": "code",
      "source": [
        "import matplotlib.pyplot as plt\n",
        "\n",
        "plt.figure(figsize=(8, 5))\n",
        "plt.plot(rh_values, total_rates, label=\"Reaction Rate vs RH\", color='darkblue')\n",
        "plt.xlabel(\"Relative Humidity (%)\", fontsize=12)\n",
        "plt.ylabel(\"Estimated Reaction Rate (s⁻¹)\", fontsize=12)\n",
        "plt.title(\"Effect of Relative Humidity on Sulfuric Acid Cluster Formation\", fontsize=13)\n",
        "plt.grid(True)\n",
        "plt.legend()\n",
        "plt.tight_layout()\n",
        "plt.show()"
      ],
      "metadata": {
        "id": "lPHnhgFW5_B4",
        "colab": {
          "base_uri": "https://localhost:8080/",
          "height": 491
        },
        "outputId": "ac0c851d-bcfd-494a-86aa-2cf226da603e"
      },
      "execution_count": 227,
      "outputs": [
        {
          "output_type": "display_data",
          "data": {
            "text/plain": [
              "<Figure size 800x500 with 1 Axes>"
            ],
            "image/png": "[encoded data removed]"
          },
          "metadata": {}
        }
      ]
    },
    {
      "cell_type": "code",
      "source": [],
      "metadata": {
        "id": "p5YsGos-429A"
      },
      "execution_count": null,
      "outputs": []
    }
  ]
}
